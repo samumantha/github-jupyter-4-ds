{
 "cells": [
  {
   "cell_type": "markdown",
   "id": "a66ac8ea-abd0-4262-a9d5-86cb35d06410",
   "metadata": {},
   "source": [
    "# My Notebook"
   ]
  },
  {
   "cell_type": "markdown",
   "id": "e1a6ed08",
   "metadata": {},
   "source": [
    "Change something to show JSON diff."
   ]
  },
  {
   "cell_type": "code",
   "execution_count": 1,
   "id": "da1d8037-8778-4232-a8bc-27d153066466",
   "metadata": {},
   "outputs": [
    {
     "name": "stdout",
     "output_type": "stream",
     "text": [
      "Hello world!\n"
     ]
    }
   ],
   "source": [
    "print(\"Hello world!\")"
   ]
  },
  {
   "cell_type": "markdown",
   "id": "99b71bd8-e21b-4613-92a4-7553f8c483cd",
   "metadata": {},
   "source": [
    "---\n",
    "A little calculation..."
   ]
  },
  {
   "cell_type": "code",
   "execution_count": 29,
   "id": "1b71d765-5a18-4d85-bab5-48a7b5349e0e",
   "metadata": {},
   "outputs": [
    {
     "name": "stdout",
     "output_type": "stream",
     "text": [
      "8\n"
     ]
    }
   ],
   "source": [
    "a = 3\n",
    "b = 5\n",
    "c = a + b\n",
    "print(c)"
   ]
  },
  {
   "cell_type": "code",
   "execution_count": 27,
   "id": "c885a43e",
   "metadata": {},
   "outputs": [],
   "source": [
    "c = 6"
   ]
  },
  {
   "cell_type": "code",
   "execution_count": 30,
   "id": "93e8b4f4",
   "metadata": {},
   "outputs": [
    {
     "data": {
      "text/plain": [
       "11"
      ]
     },
     "execution_count": 30,
     "metadata": {},
     "output_type": "execute_result"
    }
   ],
   "source": [
    "a + c"
   ]
  },
  {
   "cell_type": "code",
   "execution_count": null,
   "id": "1d0f338b",
   "metadata": {},
   "outputs": [],
   "source": []
  }
 ],
 "metadata": {
  "kernelspec": {
   "display_name": "coderefinery",
   "language": "python",
   "name": "python3"
  },
  "language_info": {
   "codemirror_mode": {
    "name": "ipython",
    "version": 3
   },
   "file_extension": ".py",
   "mimetype": "text/x-python",
   "name": "python",
   "nbconvert_exporter": "python",
   "pygments_lexer": "ipython3",
   "version": "3.12.9"
  }
 },
 "nbformat": 4,
 "nbformat_minor": 5
}
